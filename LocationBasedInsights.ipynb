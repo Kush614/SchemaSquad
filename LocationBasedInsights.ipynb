{
  "nbformat": 4,
  "nbformat_minor": 0,
  "metadata": {
    "colab": {
      "provenance": [],
      "gpuType": "T4"
    },
    "kernelspec": {
      "name": "python3",
      "display_name": "Python 3"
    },
    "language_info": {
      "name": "python"
    },
    "accelerator": "GPU"
  },
  "cells": [
    {
      "cell_type": "markdown",
      "metadata": {
        "id": "view-in-github"
      },
      "source": [
        "<a href=\"https://colab.research.google.com/github/RedFiringSun/SchemaSquad/blob/main/CS226_Big_Data_Project.ipynb\" target=\"_parent\"><img src=\"https://colab.research.google.com/assets/colab-badge.svg\" alt=\"Open In Colab\"/></a>"
      ]
    },
    {
      "cell_type": "code",
      "source": [
        "from google.colab import drive\n",
        "drive.mount('/content/drive')\n",
        "\n",
        "!pip install pyspark"
      ],
      "metadata": {
        "colab": {
          "base_uri": "https://localhost:8080/"
        },
        "id": "vqcr6tXxGBK0",
        "outputId": "7953b12e-4d2a-4b50-a4c6-da5c2aca34e2"
      },
      "execution_count": null,
      "outputs": [
        {
          "output_type": "stream",
          "name": "stdout",
          "text": [
            "Mounted at /content/drive\n",
            "Requirement already satisfied: pyspark in /usr/local/lib/python3.10/dist-packages (3.5.3)\n",
            "Requirement already satisfied: py4j==0.10.9.7 in /usr/local/lib/python3.10/dist-packages (from pyspark) (0.10.9.7)\n"
          ]
        }
      ]
    },
    {
      "cell_type": "code",
      "source": [
        "from pyspark.sql import SparkSession\n",
        "import os\n",
        "import zipfile\n",
        "import folium\n",
        "from folium.plugins import HeatMap\n",
        "import pandas as pd\n",
        "\n",
        "spark = SparkSession.builder \\\n",
        "    .appName(\"Yelp Heatmap Analysis\") \\\n",
        "    .config(\"spark.driver.memory\", \"12g\") \\\n",
        "    .config(\"spark.driver.maxResultSize\", \"4g\") \\\n",
        "    .config(\"spark.sql.shuffle.partitions\", \"10\") \\\n",
        "    .config(\"spark.default.parallelism\", \"10\") \\\n",
        "    .getOrCreate()\n",
        "\n",
        "def process_zip(zip_path, extract_to):\n",
        "    with zipfile.ZipFile(zip_path, 'r') as zip_ref:\n",
        "        zip_ref.extractall(extract_to)\n",
        "        print(f\"\\nExtracted ZIP contents to: {extract_to}\")\n",
        "    return [os.path.join(extract_to, file) for file in os.listdir(extract_to) if file.endswith('.json')]\n",
        "\n",
        "zip_file_path = '/content/drive/MyDrive/BigData/SchemaSquad/archive.zip'\n",
        "extract_dir = '/content/drive/MyDrive/BigData/SchemaSquad'\n",
        "os.makedirs(extract_dir, exist_ok=True)\n",
        "json_files = process_zip(zip_file_path, extract_dir)\n",
        "\n",
        "business_file = [file for file in json_files if 'yelp_academic_dataset_business.json' in file][0]\n",
        "df_business = spark.read.json(business_file)\n",
        "df_locations = df_business.select(\"name\", \"latitude\", \"longitude\", \"stars\").dropna()\n",
        "\n",
        "df_locations = df_locations.filter((df_locations.latitude.isNotNull()) & (df_locations.longitude.isNotNull()))\n",
        "\n",
        "pdf_locations = df_locations.toPandas()\n",
        "print(pdf_locations.head())\n",
        "\n",
        "map_center = [pdf_locations['latitude'].mean(), pdf_locations['longitude'].mean()]\n",
        "heatmap_map = folium.Map(location=map_center, zoom_start=10)\n",
        "heat_data = pdf_locations[['latitude', 'longitude', 'stars']].values.tolist()\n",
        "HeatMap(heat_data, radius=10).add_to(heatmap_map)\n",
        "heatmap_map.save(\"yelp_heatmap.html\")\n",
        "print(\"Heatmap saved as yelp_heatmap.html.\")"
      ],
      "metadata": {
        "colab": {
          "base_uri": "https://localhost:8080/",
          "height": 356
        },
        "id": "6ASN3Yx13FLb",
        "outputId": "68848f28-9eac-4c93-e717-b45608064aa7"
      },
      "execution_count": null,
      "outputs": [
        {
          "output_type": "error",
          "ename": "KeyboardInterrupt",
          "evalue": "",
          "traceback": [
            "\u001b[0;31m---------------------------------------------------------------------------\u001b[0m",
            "\u001b[0;31mKeyboardInterrupt\u001b[0m                         Traceback (most recent call last)",
            "\u001b[0;32m<ipython-input-3-e4524fa9581e>\u001b[0m in \u001b[0;36m<cell line: 32>\u001b[0;34m()\u001b[0m\n\u001b[1;32m     30\u001b[0m \u001b[0;34m\u001b[0m\u001b[0m\n\u001b[1;32m     31\u001b[0m \u001b[0;31m# Process the ZIP file and get the list of JSON files\u001b[0m\u001b[0;34m\u001b[0m\u001b[0;34m\u001b[0m\u001b[0m\n\u001b[0;32m---> 32\u001b[0;31m \u001b[0mjson_files\u001b[0m \u001b[0;34m=\u001b[0m \u001b[0mprocess_zip\u001b[0m\u001b[0;34m(\u001b[0m\u001b[0mzip_file_path\u001b[0m\u001b[0;34m,\u001b[0m \u001b[0mextract_dir\u001b[0m\u001b[0;34m)\u001b[0m\u001b[0;34m\u001b[0m\u001b[0;34m\u001b[0m\u001b[0m\n\u001b[0m\u001b[1;32m     33\u001b[0m \u001b[0;34m\u001b[0m\u001b[0m\n\u001b[1;32m     34\u001b[0m \u001b[0;31m# Load the yelp_academic_dataset_business.json file\u001b[0m\u001b[0;34m\u001b[0m\u001b[0;34m\u001b[0m\u001b[0m\n",
            "\u001b[0;32m<ipython-input-3-e4524fa9581e>\u001b[0m in \u001b[0;36mprocess_zip\u001b[0;34m(zip_path, extract_to)\u001b[0m\n\u001b[1;32m     18\u001b[0m     \u001b[0;31m# Extract ZIP file contents\u001b[0m\u001b[0;34m\u001b[0m\u001b[0;34m\u001b[0m\u001b[0m\n\u001b[1;32m     19\u001b[0m     \u001b[0;32mwith\u001b[0m \u001b[0mzipfile\u001b[0m\u001b[0;34m.\u001b[0m\u001b[0mZipFile\u001b[0m\u001b[0;34m(\u001b[0m\u001b[0mzip_path\u001b[0m\u001b[0;34m,\u001b[0m \u001b[0;34m'r'\u001b[0m\u001b[0;34m)\u001b[0m \u001b[0;32mas\u001b[0m \u001b[0mzip_ref\u001b[0m\u001b[0;34m:\u001b[0m\u001b[0;34m\u001b[0m\u001b[0;34m\u001b[0m\u001b[0m\n\u001b[0;32m---> 20\u001b[0;31m         \u001b[0mzip_ref\u001b[0m\u001b[0;34m.\u001b[0m\u001b[0mextractall\u001b[0m\u001b[0;34m(\u001b[0m\u001b[0mextract_to\u001b[0m\u001b[0;34m)\u001b[0m\u001b[0;34m\u001b[0m\u001b[0;34m\u001b[0m\u001b[0m\n\u001b[0m\u001b[1;32m     21\u001b[0m         \u001b[0mprint\u001b[0m\u001b[0;34m(\u001b[0m\u001b[0;34mf\"\\nExtracted ZIP contents to: {extract_to}\"\u001b[0m\u001b[0;34m)\u001b[0m\u001b[0;34m\u001b[0m\u001b[0;34m\u001b[0m\u001b[0m\n\u001b[1;32m     22\u001b[0m     \u001b[0;32mreturn\u001b[0m \u001b[0;34m[\u001b[0m\u001b[0mos\u001b[0m\u001b[0;34m.\u001b[0m\u001b[0mpath\u001b[0m\u001b[0;34m.\u001b[0m\u001b[0mjoin\u001b[0m\u001b[0;34m(\u001b[0m\u001b[0mextract_to\u001b[0m\u001b[0;34m,\u001b[0m \u001b[0mfile\u001b[0m\u001b[0;34m)\u001b[0m \u001b[0;32mfor\u001b[0m \u001b[0mfile\u001b[0m \u001b[0;32min\u001b[0m \u001b[0mos\u001b[0m\u001b[0;34m.\u001b[0m\u001b[0mlistdir\u001b[0m\u001b[0;34m(\u001b[0m\u001b[0mextract_to\u001b[0m\u001b[0;34m)\u001b[0m \u001b[0;32mif\u001b[0m \u001b[0mfile\u001b[0m\u001b[0;34m.\u001b[0m\u001b[0mendswith\u001b[0m\u001b[0;34m(\u001b[0m\u001b[0;34m'.json'\u001b[0m\u001b[0;34m)\u001b[0m\u001b[0;34m]\u001b[0m\u001b[0;34m\u001b[0m\u001b[0;34m\u001b[0m\u001b[0m\n",
            "\u001b[0;32m/usr/lib/python3.10/zipfile.py\u001b[0m in \u001b[0;36mextractall\u001b[0;34m(self, path, members, pwd)\u001b[0m\n\u001b[1;32m   1658\u001b[0m \u001b[0;34m\u001b[0m\u001b[0m\n\u001b[1;32m   1659\u001b[0m         \u001b[0;32mfor\u001b[0m \u001b[0mzipinfo\u001b[0m \u001b[0;32min\u001b[0m \u001b[0mmembers\u001b[0m\u001b[0;34m:\u001b[0m\u001b[0;34m\u001b[0m\u001b[0;34m\u001b[0m\u001b[0m\n\u001b[0;32m-> 1660\u001b[0;31m             \u001b[0mself\u001b[0m\u001b[0;34m.\u001b[0m\u001b[0m_extract_member\u001b[0m\u001b[0;34m(\u001b[0m\u001b[0mzipinfo\u001b[0m\u001b[0;34m,\u001b[0m \u001b[0mpath\u001b[0m\u001b[0;34m,\u001b[0m \u001b[0mpwd\u001b[0m\u001b[0;34m)\u001b[0m\u001b[0;34m\u001b[0m\u001b[0;34m\u001b[0m\u001b[0m\n\u001b[0m\u001b[1;32m   1661\u001b[0m \u001b[0;34m\u001b[0m\u001b[0m\n\u001b[1;32m   1662\u001b[0m     \u001b[0;34m@\u001b[0m\u001b[0mclassmethod\u001b[0m\u001b[0;34m\u001b[0m\u001b[0;34m\u001b[0m\u001b[0m\n",
            "\u001b[0;32m/usr/lib/python3.10/zipfile.py\u001b[0m in \u001b[0;36m_extract_member\u001b[0;34m(self, member, targetpath, pwd)\u001b[0m\n\u001b[1;32m   1713\u001b[0m         \u001b[0;32mwith\u001b[0m \u001b[0mself\u001b[0m\u001b[0;34m.\u001b[0m\u001b[0mopen\u001b[0m\u001b[0;34m(\u001b[0m\u001b[0mmember\u001b[0m\u001b[0;34m,\u001b[0m \u001b[0mpwd\u001b[0m\u001b[0;34m=\u001b[0m\u001b[0mpwd\u001b[0m\u001b[0;34m)\u001b[0m \u001b[0;32mas\u001b[0m \u001b[0msource\u001b[0m\u001b[0;34m,\u001b[0m\u001b[0;31m \u001b[0m\u001b[0;31m\\\u001b[0m\u001b[0;34m\u001b[0m\u001b[0;34m\u001b[0m\u001b[0m\n\u001b[1;32m   1714\u001b[0m              \u001b[0mopen\u001b[0m\u001b[0;34m(\u001b[0m\u001b[0mtargetpath\u001b[0m\u001b[0;34m,\u001b[0m \u001b[0;34m\"wb\"\u001b[0m\u001b[0;34m)\u001b[0m \u001b[0;32mas\u001b[0m \u001b[0mtarget\u001b[0m\u001b[0;34m:\u001b[0m\u001b[0;34m\u001b[0m\u001b[0;34m\u001b[0m\u001b[0m\n\u001b[0;32m-> 1715\u001b[0;31m             \u001b[0mshutil\u001b[0m\u001b[0;34m.\u001b[0m\u001b[0mcopyfileobj\u001b[0m\u001b[0;34m(\u001b[0m\u001b[0msource\u001b[0m\u001b[0;34m,\u001b[0m \u001b[0mtarget\u001b[0m\u001b[0;34m)\u001b[0m\u001b[0;34m\u001b[0m\u001b[0;34m\u001b[0m\u001b[0m\n\u001b[0m\u001b[1;32m   1716\u001b[0m \u001b[0;34m\u001b[0m\u001b[0m\n\u001b[1;32m   1717\u001b[0m         \u001b[0;32mreturn\u001b[0m \u001b[0mtargetpath\u001b[0m\u001b[0;34m\u001b[0m\u001b[0;34m\u001b[0m\u001b[0m\n",
            "\u001b[0;32m/usr/lib/python3.10/shutil.py\u001b[0m in \u001b[0;36mcopyfileobj\u001b[0;34m(fsrc, fdst, length)\u001b[0m\n\u001b[1;32m    196\u001b[0m         \u001b[0;32mif\u001b[0m \u001b[0;32mnot\u001b[0m \u001b[0mbuf\u001b[0m\u001b[0;34m:\u001b[0m\u001b[0;34m\u001b[0m\u001b[0;34m\u001b[0m\u001b[0m\n\u001b[1;32m    197\u001b[0m             \u001b[0;32mbreak\u001b[0m\u001b[0;34m\u001b[0m\u001b[0;34m\u001b[0m\u001b[0m\n\u001b[0;32m--> 198\u001b[0;31m         \u001b[0mfdst_write\u001b[0m\u001b[0;34m(\u001b[0m\u001b[0mbuf\u001b[0m\u001b[0;34m)\u001b[0m\u001b[0;34m\u001b[0m\u001b[0;34m\u001b[0m\u001b[0m\n\u001b[0m\u001b[1;32m    199\u001b[0m \u001b[0;34m\u001b[0m\u001b[0m\n\u001b[1;32m    200\u001b[0m \u001b[0;32mdef\u001b[0m \u001b[0m_samefile\u001b[0m\u001b[0;34m(\u001b[0m\u001b[0msrc\u001b[0m\u001b[0;34m,\u001b[0m \u001b[0mdst\u001b[0m\u001b[0;34m)\u001b[0m\u001b[0;34m:\u001b[0m\u001b[0;34m\u001b[0m\u001b[0;34m\u001b[0m\u001b[0m\n",
            "\u001b[0;32m/usr/local/lib/python3.10/dist-packages/pyspark/context.py\u001b[0m in \u001b[0;36msignal_handler\u001b[0;34m(signal, frame)\u001b[0m\n\u001b[1;32m    380\u001b[0m         \u001b[0;32mdef\u001b[0m \u001b[0msignal_handler\u001b[0m\u001b[0;34m(\u001b[0m\u001b[0msignal\u001b[0m\u001b[0;34m:\u001b[0m \u001b[0mAny\u001b[0m\u001b[0;34m,\u001b[0m \u001b[0mframe\u001b[0m\u001b[0;34m:\u001b[0m \u001b[0mAny\u001b[0m\u001b[0;34m)\u001b[0m \u001b[0;34m->\u001b[0m \u001b[0mNoReturn\u001b[0m\u001b[0;34m:\u001b[0m\u001b[0;34m\u001b[0m\u001b[0;34m\u001b[0m\u001b[0m\n\u001b[1;32m    381\u001b[0m             \u001b[0mself\u001b[0m\u001b[0;34m.\u001b[0m\u001b[0mcancelAllJobs\u001b[0m\u001b[0;34m(\u001b[0m\u001b[0;34m)\u001b[0m\u001b[0;34m\u001b[0m\u001b[0;34m\u001b[0m\u001b[0m\n\u001b[0;32m--> 382\u001b[0;31m             \u001b[0;32mraise\u001b[0m \u001b[0mKeyboardInterrupt\u001b[0m\u001b[0;34m(\u001b[0m\u001b[0;34m)\u001b[0m\u001b[0;34m\u001b[0m\u001b[0;34m\u001b[0m\u001b[0m\n\u001b[0m\u001b[1;32m    383\u001b[0m \u001b[0;34m\u001b[0m\u001b[0m\n\u001b[1;32m    384\u001b[0m         \u001b[0;31m# see http://stackoverflow.com/questions/23206787/\u001b[0m\u001b[0;34m\u001b[0m\u001b[0;34m\u001b[0m\u001b[0m\n",
            "\u001b[0;31mKeyboardInterrupt\u001b[0m: "
          ]
        }
      ]
    },
    {
      "cell_type": "code",
      "source": [
        "from pyspark.sql.functions import col, lower\n",
        "import folium\n",
        "\n",
        "categories = [\"restaurants\", \"beauty & spas\", \"coffee & tea\", \"automotive\", \"health & medical\"]\n",
        "for category in categories:\n",
        "    category_data = df_business.filter(lower(col(\"categories\")).contains(category.lower()))\n",
        "    category_pdf = category_data.select(\"city\", \"stars\", \"latitude\", \"longitude\").toPandas()\n",
        "    city_ratings = category_pdf.groupby('city').agg({\n",
        "        'stars': 'mean',\n",
        "        'latitude': 'mean',\n",
        "        'longitude': 'mean'\n",
        "    }).reset_index()\n",
        "\n",
        "    if city_ratings.empty:\n",
        "        print(f\"No data found for category: {category}\")\n",
        "        continue\n",
        "    category_map = folium.Map(\n",
        "        location=[city_ratings['latitude'].mean(), city_ratings['longitude'].mean()],\n",
        "        zoom_start=6\n",
        "    )\n",
        "\n",
        "    for _, row in city_ratings.iterrows():\n",
        "        folium.CircleMarker(\n",
        "            location=[row['latitude'], row['longitude']],\n",
        "            radius=7,\n",
        "            color='blue' if row['stars'] >= 4 else 'red',\n",
        "            fill=True,\n",
        "            fill_color='blue' if row['stars'] >= 4 else 'red',\n",
        "            fill_opacity=0.6,\n",
        "            popup=f\"{row['city']} - {row['stars']:.1f} stars\"\n",
        "        ).add_to(category_map)\n",
        "\n",
        "    category_filename = f\"{category.replace('&', 'and').replace(' ', '_')}_choropleth_map.html\"\n",
        "    category_map.save(category_filename)\n",
        "    print(f\"Map saved as {category_filename}\")\n"
      ],
      "metadata": {
        "colab": {
          "base_uri": "https://localhost:8080/"
        },
        "id": "aK9ntlND6xjj",
        "outputId": "1955f67d-759d-4d94-8e0a-a978de83349d"
      },
      "execution_count": null,
      "outputs": [
        {
          "output_type": "stream",
          "name": "stdout",
          "text": [
            "Map saved as restaurants_choropleth_map.html\n",
            "Map saved as beauty_and_spas_choropleth_map.html\n",
            "Map saved as coffee_and_tea_choropleth_map.html\n",
            "Map saved as automotive_choropleth_map.html\n",
            "Map saved as health_and_medical_choropleth_map.html\n"
          ]
        }
      ]
    },
    {
      "cell_type": "code",
      "source": [
        "file_path = '/content/drive/MyDrive/BigData/SchemaSquad/stgdppi2q24.xlsx'\n",
        "df_raw = pd.read_excel(file_path, skiprows=6)\n",
        "print(df_raw.head(15))\n",
        "regions_to_exclude = [\"United States\", \"Northeast\", \"Mideast\", \"Great Lakes\", \"West\", \"South\"]\n",
        "df_states = df_raw[~df_raw.iloc[:, 0].isin(regions_to_exclude)]\n",
        "\n",
        "df_states = df_states.rename(columns={\n",
        "    df_states.columns[0]: \"State\",\n",
        "    df_states.columns[2]: \"GDP_2023\",\n",
        "    df_states.columns[3]: \"GDP_2024\"\n",
        "})\n",
        "\n",
        "df_states = df_states[[\"State\", \"GDP_2023\", \"GDP_2024\"]]\n",
        "\n",
        "df_states = df_states.dropna(subset=[\"GDP_2023\", \"GDP_2024\"])\n",
        "\n",
        "df_states[\"GDP_2023\"] = pd.to_numeric(df_states[\"GDP_2023\"], errors=\"coerce\")\n",
        "df_states[\"GDP_2024\"] = pd.to_numeric(df_states[\"GDP_2024\"], errors=\"coerce\")\n",
        "df_states.reset_index(drop=True, inplace=True)\n",
        "\n",
        "print(df_states.head())"
      ],
      "metadata": {
        "id": "lRSYRxSA8hZ5",
        "colab": {
          "base_uri": "https://localhost:8080/"
        },
        "outputId": "6e37fe97-79b2-4ab5-8b89-4eb2ac99ad3b"
      },
      "execution_count": null,
      "outputs": [
        {
          "output_type": "stream",
          "name": "stdout",
          "text": [
            "            United States   26006893   27720709   28296967   28624069  \\\n",
            "0            New England   1324161.0  1410687.0  1440641.0  1467183.0   \n",
            "1             Connecticut   321686.0   345912.0   355246.0   358594.0   \n",
            "2                  Maine     86493.0    93270.0    95468.0    96860.0   \n",
            "3          Massachusetts    695612.0   736296.0   749677.0   767359.0   \n",
            "4          New Hampshire    106488.0   114101.0   116529.0   118760.0   \n",
            "5           Rhode Island     72869.0    77574.0    79122.0    80839.0   \n",
            "6                Vermont     41012.0    43534.0    44598.0    44771.0   \n",
            "7                Mideast   4474023.0  4745213.0  4833144.0  4895879.0   \n",
            "8               Delaware     92558.0    98069.0   100184.0   100918.0   \n",
            "9   District of Columbia    165768.0   176502.0   180537.0   182190.0   \n",
            "10              Maryland    484908.0   515607.0   525753.0   532514.0   \n",
            "11             New Jersey   758289.0   806665.0   822849.0   831387.0   \n",
            "12               New York  2052759.0  2172010.0  2207141.0  2245849.0   \n",
            "13          Pennsylvania    919741.0   976361.0   996679.0  1003022.0   \n",
            "14           Great Lakes   3374137.0  3584949.0  3651216.0  3681400.0   \n",
            "\n",
            "     29016714  6.6  4.7  5.6 22034828 22671096 22960600 23053545 23223906  \\\n",
            "0   1484942.0  6.5  7.6  4.9  1148442  1169288  1181915  1192393  1198786   \n",
            "1    363417.0  7.5  3.8  5.5   278976   286628   291291   291103   293087   \n",
            "2     97872.0  7.8  6.0  4.2    73036    75195    76267    76786    77102   \n",
            "3    776147.0  5.8  9.8  4.7   608053   615505   620325   628867   631770   \n",
            "4    120163.0  7.1  7.9  4.8    91416    93467    94420    95430    95926   \n",
            "5     81911.0  6.5  9.0  5.4    62279    63277    63853    64616    65011   \n",
            "6     45432.0  6.1  1.6  6.0    34753    35237    35755    35622    35917   \n",
            "7   4969586.0  6.1  5.3  6.2  3833059  3901561  3937119  3949163  3980260   \n",
            "8    102401.0  6.0  3.0  6.0    77149    78014    79077    78722    79347   \n",
            "9    184916.0  6.5  3.7  6.1   144555   146024   147203   146806   147570   \n",
            "10   539232.0  6.3  5.2  5.1   416406   422866   426582   428162   430593   \n",
            "11   841417.0  6.4  4.2  4.9   650236   663889   671273   672565   676538   \n",
            "12  2284364.0  5.8  7.2  7.0  1765102  1791211  1803338  1814254  1831169   \n",
            "13  1017257.0  6.2  2.6  5.8   779361   799229   809272   808315   814704   \n",
            "14  3730476.0  6.2  3.3  5.4  2854331  2898355  2928161  2929698  2954134   \n",
            "\n",
            "    2.9  ........  1.6    3 .........1  \n",
            "0   1.8  ........  3.6  2.2   ........  \n",
            "1   2.7        24 -0.3  2.8         30  \n",
            "2     3        21  2.8  1.7         44  \n",
            "3   1.2        47  5.6  1.9         41  \n",
            "4   2.2        31  4.3  2.1         40  \n",
            "5   1.6        41  4.9  2.5         33  \n",
            "6   1.4        45 -1.5  3.4         16  \n",
            "7   1.8  ........  1.2  3.2   ........  \n",
            "8   1.1        48 -1.8  3.2         19  \n",
            "9     1  ........ -1.1  2.1   ........  \n",
            "10  1.6        42  1.5  2.3         36  \n",
            "11  2.1        33  0.8  2.4         34  \n",
            "12  1.5        43  2.4  3.8          9  \n",
            "13  2.5        28 -0.5  3.2         20  \n",
            "14  1.5  ........  0.2  3.4   ........  \n",
            "            State   GDP_2023   GDP_2024\n",
            "0    New England   1410687.0  1440641.0\n",
            "1     Connecticut   345912.0   355246.0\n",
            "2          Maine     93270.0    95468.0\n",
            "3  Massachusetts    736296.0   749677.0\n",
            "4  New Hampshire    114101.0   116529.0\n"
          ]
        }
      ]
    },
    {
      "cell_type": "code",
      "source": [
        "from pyspark.sql.functions import count\n",
        "\n",
        "for category in categories:\n",
        "    category_data = df_business.filter(lower(col(\"categories\")).contains(category.lower()))\n",
        "\n",
        "    top_cities = category_data.groupBy(\"city\").agg(count(\"*\").alias(\"business_count\")).orderBy(col(\"business_count\").desc())\n",
        "    print(f\"\\nTop 10 cities for category: {category}\")\n",
        "    top_cities.show(10)\n"
      ],
      "metadata": {
        "colab": {
          "base_uri": "https://localhost:8080/"
        },
        "id": "XbxmQFQGCrU4",
        "outputId": "db3ad3bc-7e86-41cd-99c0-8156ba932c9c"
      },
      "execution_count": null,
      "outputs": [
        {
          "output_type": "stream",
          "name": "stdout",
          "text": [
            "\n",
            "Top 10 cities for category: restaurants\n",
            "+------------+--------------+\n",
            "|        city|business_count|\n",
            "+------------+--------------+\n",
            "|Philadelphia|          5852|\n",
            "|       Tampa|          2960|\n",
            "|Indianapolis|          2862|\n",
            "|   Nashville|          2502|\n",
            "|      Tucson|          2466|\n",
            "| New Orleans|          2259|\n",
            "|    Edmonton|          2166|\n",
            "| Saint Louis|          1790|\n",
            "|        Reno|          1286|\n",
            "|       Boise|           847|\n",
            "+------------+--------------+\n",
            "only showing top 10 rows\n",
            "\n",
            "\n",
            "Top 10 cities for category: beauty & spas\n",
            "+-------------+--------------+\n",
            "|         city|business_count|\n",
            "+-------------+--------------+\n",
            "| Philadelphia|          1320|\n",
            "|       Tucson|           930|\n",
            "|        Tampa|           925|\n",
            "|    Nashville|           606|\n",
            "| Indianapolis|           595|\n",
            "|         Reno|           578|\n",
            "|     Edmonton|           454|\n",
            "|  New Orleans|           436|\n",
            "|Santa Barbara|           400|\n",
            "|  Saint Louis|           390|\n",
            "+-------------+--------------+\n",
            "only showing top 10 rows\n",
            "\n",
            "\n",
            "Top 10 cities for category: coffee & tea\n",
            "+------------+--------------+\n",
            "|        city|business_count|\n",
            "+------------+--------------+\n",
            "|Philadelphia|           894|\n",
            "|       Tampa|           395|\n",
            "|    Edmonton|           350|\n",
            "| New Orleans|           318|\n",
            "|      Tucson|           317|\n",
            "|   Nashville|           310|\n",
            "|Indianapolis|           300|\n",
            "|        Reno|           215|\n",
            "| Saint Louis|           142|\n",
            "|       Boise|           138|\n",
            "+------------+--------------+\n",
            "only showing top 10 rows\n",
            "\n",
            "\n",
            "Top 10 cities for category: automotive\n",
            "+------------+--------------+\n",
            "|        city|business_count|\n",
            "+------------+--------------+\n",
            "|      Tucson|           830|\n",
            "|       Tampa|           680|\n",
            "|Philadelphia|           665|\n",
            "|Indianapolis|           516|\n",
            "|        Reno|           506|\n",
            "|   Nashville|           414|\n",
            "| Saint Louis|           311|\n",
            "|       Boise|           255|\n",
            "| New Orleans|           253|\n",
            "|    Edmonton|           245|\n",
            "+------------+--------------+\n",
            "only showing top 10 rows\n",
            "\n",
            "\n",
            "Top 10 cities for category: health & medical\n",
            "+-------------+--------------+\n",
            "|         city|business_count|\n",
            "+-------------+--------------+\n",
            "| Philadelphia|           984|\n",
            "|       Tucson|           966|\n",
            "|        Tampa|           823|\n",
            "|         Reno|           726|\n",
            "|Santa Barbara|           509|\n",
            "| Indianapolis|           462|\n",
            "|    Nashville|           453|\n",
            "|  Saint Louis|           311|\n",
            "|  New Orleans|           277|\n",
            "|     Edmonton|           241|\n",
            "+-------------+--------------+\n",
            "only showing top 10 rows\n",
            "\n"
          ]
        }
      ]
    },
    {
      "cell_type": "code",
      "source": [
        "from pyspark.sql.functions import avg\n",
        "\n",
        "for category in categories:\n",
        "    category_data = df_business.filter(lower(col(\"categories\")).contains(category.lower()))\n",
        "    state_avg_ratings = category_data.groupBy(\"state\").agg(avg(\"stars\").alias(\"average_rating\")).orderBy(col(\"average_rating\").desc())\n",
        "    print(f\"\\nAverage ratings by state for category: {category}\")\n",
        "    state_avg_ratings.show(10)\n"
      ],
      "metadata": {
        "colab": {
          "base_uri": "https://localhost:8080/"
        },
        "id": "g-PStTSTCxM6",
        "outputId": "1c74ca74-1df4-44e2-c4a5-2b109cf487ff"
      },
      "execution_count": null,
      "outputs": [
        {
          "output_type": "stream",
          "name": "stdout",
          "text": [
            "\n",
            "Average ratings by state for category: restaurants\n",
            "+-----+------------------+\n",
            "|state|    average_rating|\n",
            "+-----+------------------+\n",
            "|   MT|               5.0|\n",
            "|  XMS|               4.0|\n",
            "|   CA|3.7627045650301465|\n",
            "|   LA|3.5951923076923076|\n",
            "|   FL| 3.578341541633261|\n",
            "|   ID| 3.544930875576037|\n",
            "|   NV| 3.537955768081291|\n",
            "|   PA|3.5215568388576854|\n",
            "|   CO|               3.5|\n",
            "|   HI|               3.5|\n",
            "+-----+------------------+\n",
            "only showing top 10 rows\n",
            "\n",
            "\n",
            "Average ratings by state for category: beauty & spas\n",
            "+-----+------------------+\n",
            "|state|    average_rating|\n",
            "+-----+------------------+\n",
            "|   TX|               5.0|\n",
            "|   SD|               4.5|\n",
            "|   CA| 4.319607843137255|\n",
            "|   NV|4.1022058823529415|\n",
            "|   FL| 3.909175680716151|\n",
            "|   ID|3.8891402714932126|\n",
            "|   LA|          3.861875|\n",
            "|   AZ|3.8423423423423424|\n",
            "|   TN|3.8010610079575597|\n",
            "|   PA|3.7884671962341865|\n",
            "+-----+------------------+\n",
            "only showing top 10 rows\n",
            "\n",
            "\n",
            "Average ratings by state for category: coffee & tea\n",
            "+-----+------------------+\n",
            "|state|    average_rating|\n",
            "+-----+------------------+\n",
            "|   ID|3.8548387096774195|\n",
            "|   CA|3.7690217391304346|\n",
            "|   LA|3.6610169491525424|\n",
            "|   NV|3.5690298507462686|\n",
            "|   AB| 3.554089709762533|\n",
            "|   TN|3.5517241379310347|\n",
            "|   IN| 3.537473233404711|\n",
            "|   MO|3.5364705882352943|\n",
            "|   FL| 3.530741410488246|\n",
            "|   AZ| 3.492877492877493|\n",
            "+-----+------------------+\n",
            "only showing top 10 rows\n",
            "\n",
            "\n",
            "Average ratings by state for category: automotive\n",
            "+-----+------------------+\n",
            "|state|    average_rating|\n",
            "+-----+------------------+\n",
            "|   WA|               4.5|\n",
            "|   VT|               4.5|\n",
            "|   CA|3.9003067484662575|\n",
            "|   NV| 3.709478021978022|\n",
            "|   ID|3.7076719576719577|\n",
            "|   AZ|  3.67545871559633|\n",
            "|   MO|       3.521484375|\n",
            "|   PA| 3.507585899152164|\n",
            "|   FL| 3.486802030456853|\n",
            "|   TN| 3.464114832535885|\n",
            "+-----+------------------+\n",
            "only showing top 10 rows\n",
            "\n",
            "\n",
            "Average ratings by state for category: health & medical\n",
            "+-----+------------------+\n",
            "|state|    average_rating|\n",
            "+-----+------------------+\n",
            "|   UT|               4.5|\n",
            "|   CA| 4.109797297297297|\n",
            "|   ID| 3.958448753462604|\n",
            "|   NV|  3.80045871559633|\n",
            "|   LA|3.7771535580524342|\n",
            "|   TN|3.7622298065984072|\n",
            "|   IN|  3.71112600536193|\n",
            "|   MO|3.6453168044077136|\n",
            "|   AB|3.6254752851711025|\n",
            "|   FL|3.5991979738286197|\n",
            "+-----+------------------+\n",
            "only showing top 10 rows\n",
            "\n"
          ]
        }
      ]
    },
    {
      "cell_type": "code",
      "source": [
        "for category in categories:\n",
        "    category_data = df_business.filter(lower(col(\"categories\")).contains(category.lower()))\n",
        "    city_ratings = category_data.groupBy(\"city\").agg(\n",
        "        avg(\"stars\").alias(\"average_rating\"),\n",
        "        count(\"*\").alias(\"business_count\")\n",
        "    ).filter(col(\"business_count\") > 10).orderBy(col(\"average_rating\").desc())\n",
        "    print(f\"\\nCities with the highest-rated businesses for category: {category}\")\n",
        "    city_ratings.show(10)\n"
      ],
      "metadata": {
        "colab": {
          "base_uri": "https://localhost:8080/"
        },
        "id": "gj9nmXLUCzfB",
        "outputId": "60f9ed95-be2a-495c-f615-8e8eb29fbb70"
      },
      "execution_count": null,
      "outputs": [
        {
          "output_type": "stream",
          "name": "stdout",
          "text": [
            "\n",
            "Cities with the highest-rated businesses for category: restaurants\n",
            "+--------------------+------------------+--------------+\n",
            "|                city|    average_rating|business_count|\n",
            "+--------------------+------------------+--------------+\n",
            "|       Merchantville| 4.173076923076923|            26|\n",
            "|    Saint Pete Beach| 4.076923076923077|            26|\n",
            "|North Redington B...| 4.076923076923077|            13|\n",
            "|          Barrington|            4.0625|            16|\n",
            "|         Beech Grove|               4.0|            16|\n",
            "|    Redington Shores|               4.0|            12|\n",
            "|        Tierra Verde|3.9642857142857144|            14|\n",
            "|            Gulfport| 3.963636363636364|            55|\n",
            "|           Montecito| 3.962962962962963|            27|\n",
            "|       Garnet Valley|3.9615384615384617|            13|\n",
            "+--------------------+------------------+--------------+\n",
            "only showing top 10 rows\n",
            "\n",
            "\n",
            "Cities with the highest-rated businesses for category: beauty & spas\n",
            "+--------------+-----------------+--------------+\n",
            "|          city|   average_rating|business_count|\n",
            "+--------------+-----------------+--------------+\n",
            "|     Montecito|4.583333333333333|            18|\n",
            "|     Maplewood|          4.53125|            16|\n",
            "| Santa Barbara|          4.37875|           400|\n",
            "|Webster Groves|4.333333333333333|            12|\n",
            "|      Narberth|4.321428571428571|            14|\n",
            "| Safety Harbor|          4.28125|            16|\n",
            "|      New Hope|4.260869565217392|            23|\n",
            "|     Tampa Bay|4.217391304347826|            23|\n",
            "|     Bryn Mawr|4.216216216216216|            37|\n",
            "|        Ambler|4.196428571428571|            28|\n",
            "+--------------+-----------------+--------------+\n",
            "only showing top 10 rows\n",
            "\n",
            "\n",
            "Cities with the highest-rated businesses for category: coffee & tea\n",
            "+-------------+------------------+--------------+\n",
            "|         city|    average_rating|business_count|\n",
            "+-------------+------------------+--------------+\n",
            "|St Petersburg| 4.285714285714286|            14|\n",
            "| Collingswood|              4.25|            12|\n",
            "|Saint Charles| 4.147058823529412|            17|\n",
            "|      Clayton| 4.083333333333333|            12|\n",
            "|Madeira Beach|               4.0|            11|\n",
            "|      Dunedin|3.9814814814814814|            27|\n",
            "|        Wayne|3.9615384615384617|            13|\n",
            "|     Gulfport|3.9545454545454546|            11|\n",
            "|        Boise|3.8949275362318843|           138|\n",
            "|  Saint Louis|3.8838028169014085|           142|\n",
            "+-------------+------------------+--------------+\n",
            "only showing top 10 rows\n",
            "\n",
            "\n",
            "Cities with the highest-rated businesses for category: automotive\n",
            "+--------------+------------------+--------------+\n",
            "|          city|    average_rating|business_count|\n",
            "+--------------+------------------+--------------+\n",
            "|      Glenside| 4.095238095238095|            21|\n",
            "|    Oro Valley| 4.090909090909091|            11|\n",
            "|   Carpinteria|            4.0625|            16|\n",
            "|         Eagle| 4.045454545454546|            11|\n",
            "|  Edwardsville| 4.033333333333333|            15|\n",
            "|         Media| 4.020833333333333|            24|\n",
            "|       Newtown|               4.0|            13|\n",
            "|Newtown Square| 3.966666666666667|            15|\n",
            "|     Souderton|3.9615384615384617|            13|\n",
            "| Santa Barbara|3.9174757281553396|           206|\n",
            "+--------------+------------------+--------------+\n",
            "only showing top 10 rows\n",
            "\n",
            "\n",
            "Cities with the highest-rated businesses for category: health & medical\n",
            "+-------------+------------------+--------------+\n",
            "|         city|    average_rating|business_count|\n",
            "+-------------+------------------+--------------+\n",
            "|        Eagle|4.3604651162790695|            43|\n",
            "|  St. Charles| 4.291666666666667|            12|\n",
            "|     Narberth| 4.230769230769231|            13|\n",
            "|      Dunedin| 4.222222222222222|            27|\n",
            "|    Maplewood|4.1923076923076925|            13|\n",
            "|Santa Barbara| 4.132612966601179|           509|\n",
            "| Mount Juliet| 4.117647058823529|            17|\n",
            "|      Malvern| 4.083333333333333|            18|\n",
            "|  North Wales| 4.045454545454546|            22|\n",
            "|     New Hope| 4.045454545454546|            11|\n",
            "+-------------+------------------+--------------+\n",
            "only showing top 10 rows\n",
            "\n"
          ]
        }
      ]
    },
    {
      "cell_type": "code",
      "source": [
        "import seaborn as sns\n",
        "import matplotlib.pyplot as plt\n",
        "from pyspark.sql.functions import col, lower, corr\n",
        "import pandas as pd\n",
        "\n",
        "correlation_data = []\n",
        "categories = [\"restaurants\", \"beauty & spas\", \"coffee & tea\", \"automotive\", \"health & medical\"]\n",
        "\n",
        "for category in categories:\n",
        "    category_data = df_business.filter(lower(col(\"categories\")).contains(category.lower()))\n",
        "    correlation = category_data.select(corr(\"review_count\", \"stars\").alias(\"correlation\")).collect()[0][\"correlation\"]\n",
        "    correlation_data.append({\"category\": category, \"correlation\": correlation})\n",
        "    print(f\"Correlation between review count and stars for {category}: {correlation:.2f}\")\n",
        "\n",
        "correlation_df = pd.DataFrame(correlation_data)\n",
        "correlation_pivot = correlation_df.set_index('category').T\n",
        "\n",
        "plt.figure(figsize=(8, 6))\n",
        "sns.heatmap(correlation_pivot, annot=True, cmap=\"coolwarm\", center=0, cbar_kws={'label': 'Correlation'}, vmin=-1, vmax=1)\n",
        "plt.title('Correlation Heatmap: Review Count vs. Stars by Category')\n",
        "plt.ylabel('Correlation')\n",
        "\n",
        "plt.show()"
      ],
      "metadata": {
        "colab": {
          "base_uri": "https://localhost:8080/",
          "height": 651
        },
        "id": "whFGcWaODgKC",
        "outputId": "51265804-7937-44f2-bca9-8415013ca6d6"
      },
      "execution_count": null,
      "outputs": [
        {
          "output_type": "stream",
          "name": "stdout",
          "text": [
            "Correlation between review count and stars for restaurants: 0.16\n",
            "Correlation between review count and stars for beauty & spas: 0.03\n",
            "Correlation between review count and stars for coffee & tea: 0.17\n",
            "Correlation between review count and stars for automotive: -0.07\n",
            "Correlation between review count and stars for health & medical: -0.01\n"
          ]
        },
        {
          "output_type": "display_data",
          "data": {
            "text/plain": [
              "<Figure size 800x600 with 2 Axes>"
            ],
            "image/png": "[encoded data removed]"
          },
          "metadata": {}
        }
      ]
    },
    {
      "cell_type": "code",
      "source": [
        "import folium\n",
        "from folium.plugins import HeatMap\n",
        "import pandas as pd\n",
        "pdf_locations['normalized_stars'] = (pdf_locations['stars'] - pdf_locations['stars'].min()) / \\\n",
        "                                    (pdf_locations['stars'].max() - pdf_locations['stars'].min())\n",
        "\n",
        "map_center = [pdf_locations['latitude'].mean(), pdf_locations['longitude'].mean()]\n",
        "color_coded_heatmap = folium.Map(location=map_center, zoom_start=10)\n",
        "heat_data = pdf_locations[['latitude', 'longitude', 'normalized_stars']].values.tolist()\n",
        "\n",
        "HeatMap(heat_data, radius=10, max_opacity=0.8, blur=15).add_to(color_coded_heatmap)\n",
        "\n",
        "color_coded_heatmap.save(\"color_coded_heatmap.html\")\n",
        "print(\"Color-coded heatmap saved as color_coded_heatmap.html.\")"
      ],
      "metadata": {
        "id": "ucpfPYYWTN25",
        "colab": {
          "base_uri": "https://localhost:8080/"
        },
        "outputId": "483a92c1-8e87-45c6-de77-692e31ee9d86"
      },
      "execution_count": null,
      "outputs": [
        {
          "output_type": "stream",
          "name": "stdout",
          "text": [
            "Color-coded heatmap saved as color_coded_heatmap.html.\n"
          ]
        }
      ]
    },
    {
      "cell_type": "code",
      "source": [
        "import folium\n",
        "from folium.plugins import HeatMap\n",
        "import pandas as pd\n",
        "pdf_locations['normalized_stars'] = (pdf_locations['stars'] - pdf_locations['stars'].min()) / \\\n",
        "                                    (pdf_locations['stars'].max() - pdf_locations['stars'].min())\n",
        "pdf_grouped = pdf_locations.groupby(['latitude', 'longitude'], as_index=False).agg({\n",
        "    'normalized_stars': 'mean'\n",
        "})\n",
        "heat_data = pdf_grouped[['latitude', 'longitude', 'normalized_stars']].values.tolist()\n",
        "\n",
        "map_center = [pdf_locations['latitude'].mean(), pdf_locations['longitude'].mean()]\n",
        "improved_heatmap = folium.Map(location=map_center, zoom_start=10)\n",
        "\n",
        "HeatMap(\n",
        "    heat_data,\n",
        "    radius=15,\n",
        "    blur=20,\n",
        "    max_opacity=0.8,\n",
        "    gradient={\n",
        "        0.0: 'blue',\n",
        "        0.3: 'blue',\n",
        "        0.6: 'blue',\n",
        "        0.9: 'red',\n",
        "        1.0: 'red'\n",
        "    }\n",
        ").add_to(improved_heatmap)\n",
        "\n",
        "improved_heatmap.save(\"improved_improved_color_coded_heatmap.html\")\n",
        "print(\"Improved color-coded heatmap saved as improved_color_coded_heatmap.html.\")"
      ],
      "metadata": {
        "colab": {
          "base_uri": "https://localhost:8080/"
        },
        "id": "rdH5rIzZhrTe",
        "outputId": "72e0e141-ca1b-4617-8944-a451eeadc837"
      },
      "execution_count": null,
      "outputs": [
        {
          "output_type": "stream",
          "name": "stdout",
          "text": [
            "Improved color-coded heatmap saved as improved_color_coded_heatmap.html.\n"
          ]
        }
      ]
    },
    {
      "cell_type": "code",
      "source": [
        "top_locations = pdf_locations.groupby(['name']).agg({\n",
        "    'stars': 'mean'\n",
        "}).reset_index().sort_values(by='stars', ascending=False)\n",
        "\n",
        "print(\"Top Locations by Average Rating:\")\n",
        "print(top_locations.head(10))"
      ],
      "metadata": {
        "colab": {
          "base_uri": "https://localhost:8080/"
        },
        "id": "unxZJ9xR1HeF",
        "outputId": "ff97c309-a7fd-4ca1-839e-f7904aa48c04"
      },
      "execution_count": null,
      "outputs": [
        {
          "output_type": "stream",
          "name": "stdout",
          "text": [
            "Top Locations by Average Rating:\n",
            "                                                     name  stars\n",
            "114116  ​​Transformational Abdominal Massage by Jada D...    5.0\n",
            "70200                          Off The Leash Dog Grooming    5.0\n",
            "70197                      Off Mane Street Salon & Barber    5.0\n",
            "15567                                 Bruno David Gallery    5.0\n",
            "70196                               Off Leash K9 Training    5.0\n",
            "15563                            Brunelli Dental Partners    5.0\n",
            "38369                    GBT Sheet Metal & Gutter Systems    5.0\n",
            "38371                                            GCD Eats    5.0\n",
            "38372                                   GCGC Greek Yogurt    5.0\n",
            "38373                                   GCO Carpet Outlet    5.0\n"
          ]
        }
      ]
    },
    {
      "cell_type": "code",
      "source": [
        "df_business = df_business.toPandas()"
      ],
      "metadata": {
        "id": "11Yu585-y_PL"
      },
      "execution_count": null,
      "outputs": []
    },
    {
      "cell_type": "code",
      "source": [
        "top_cities = df_business.groupby('city').agg({\n",
        "    'stars': 'mean'\n",
        "}).reset_index().sort_values(by='stars', ascending=False)\n",
        "\n",
        "print(\"Top 10 Cities by Average Rating:\")\n",
        "print(top_cities.head(10))"
      ],
      "metadata": {
        "colab": {
          "base_uri": "https://localhost:8080/"
        },
        "id": "jfFtyeh21VAk",
        "outputId": "560ecad8-9f2e-4e48-89a8-6d85e776bbf0"
      },
      "execution_count": null,
      "outputs": [
        {
          "output_type": "stream",
          "name": "stdout",
          "text": [
            "Top 10 Cities by Average Rating:\n",
            "                  city  stars\n",
            "1074           Sparks,    5.0\n",
            "830          POTTSTOWN    5.0\n",
            "364            Fernley    5.0\n",
            "822          Overbrook    5.0\n",
            "114         Bridgeton     5.0\n",
            "554   LOWER PROVIDENCE    5.0\n",
            "1358      Yardley Boro    5.0\n",
            "315           Edgemoor    5.0\n",
            "65         Belleville     5.0\n",
            "1286    Wesley Chapel     5.0\n"
          ]
        }
      ]
    },
    {
      "cell_type": "code",
      "source": [
        "business_density = df_business.groupby('city').size().reset_index(name='business_count')\n",
        "business_density = business_density.sort_values(by='business_count', ascending=False)\n",
        "\n",
        "print(\"Top 10 Cities by Business Density:\")\n",
        "print(business_density.head(10))"
      ],
      "metadata": {
        "colab": {
          "base_uri": "https://localhost:8080/"
        },
        "id": "0FCd0qOg11sH",
        "outputId": "c566b202-94bf-4f83-fce0-c8032ac7d6b1"
      },
      "execution_count": null,
      "outputs": [
        {
          "output_type": "stream",
          "name": "stdout",
          "text": [
            "Top 10 Cities by Business Density:\n",
            "               city  business_count\n",
            "866    Philadelphia           14569\n",
            "1210         Tucson            9250\n",
            "1157          Tampa            9050\n",
            "511    Indianapolis            7540\n",
            "745       Nashville            6971\n",
            "758     New Orleans            6209\n",
            "926            Reno            5935\n",
            "318        Edmonton            5054\n",
            "989     Saint Louis            4827\n",
            "1007  Santa Barbara            3829\n"
          ]
        }
      ]
    },
    {
      "cell_type": "code",
      "source": [
        "popular_categories = df_business.groupby(['city', 'categories']).size().reset_index(name='category_count')\n",
        "popular_categories = popular_categories.sort_values(by='category_count', ascending=False)\n",
        "\n",
        "print(\"Most Popular Business Categories by City:\")\n",
        "print(popular_categories)"
      ],
      "metadata": {
        "colab": {
          "base_uri": "https://localhost:8080/"
        },
        "id": "GjaM-G9k1468",
        "outputId": "33b6f385-3a3f-453a-b218-cce034f5f5c0"
      },
      "execution_count": null,
      "outputs": [
        {
          "output_type": "stream",
          "name": "stdout",
          "text": [
            "Most Popular Business Categories by City:\n",
            "                city                                         categories  \\\n",
            "75544   Philadelphia                                 Restaurants, Pizza   \n",
            "74394   Philadelphia                                 Pizza, Restaurants   \n",
            "75071   Philadelphia                               Restaurants, Chinese   \n",
            "73595   Philadelphia                         Nail Salons, Beauty & Spas   \n",
            "117102        Tucson                               Restaurants, Mexican   \n",
            "...              ...                                                ...   \n",
            "43021          Largo  Cuban, Latin American, Fast Food, Caribbean, R...   \n",
            "43020          Largo  Couriers & Delivery Services, Home Services, J...   \n",
            "43019          Largo  Cosmetics & Beauty Supply, Shopping, Beauty & ...   \n",
            "43018          Largo  Cosmetics & Beauty Supply, Beauty & Spas, Conv...   \n",
            "125267       ​Lithia            Doctors, Health & Medical, Orthopedists   \n",
            "\n",
            "        category_count  \n",
            "75544              154  \n",
            "74394              124  \n",
            "75071               89  \n",
            "73595               86  \n",
            "117102              84  \n",
            "...                ...  \n",
            "43021                1  \n",
            "43020                1  \n",
            "43019                1  \n",
            "43018                1  \n",
            "125267               1  \n",
            "\n",
            "[125268 rows x 3 columns]\n"
          ]
        }
      ]
    },
    {
      "cell_type": "code",
      "source": [
        "top_categories = df_business.groupby('categories').agg({\n",
        "    'stars': 'mean',\n",
        "    'review_count': 'sum'\n",
        "}).reset_index().sort_values(by='stars', ascending=False)\n",
        "\n",
        "print(\"Top 10 Rated Business Categories:\")\n",
        "print(top_categories.head(10))"
      ],
      "metadata": {
        "colab": {
          "base_uri": "https://localhost:8080/"
        },
        "id": "JXnSYaqn17Ks",
        "outputId": "5fb34511-19b9-43b7-8bcc-a8633b84c6d9"
      },
      "execution_count": null,
      "outputs": [
        {
          "output_type": "stream",
          "name": "stdout",
          "text": [
            "Top 10 Rated Business Categories:\n",
            "                                              categories  stars  review_count\n",
            "6186   Auto Repair, Auto Customization, Auto Glass Se...    5.0             7\n",
            "29140  Fitness & Instruction, Gyms, Interval Training...    5.0            22\n",
            "29162  Fitness & Instruction, Health & Medical, Healt...    5.0            10\n",
            "29161  Fitness & Instruction, Health & Medical, Gyms,...    5.0             5\n",
            "74147  Shopping, Shoe Stores, Men's Clothing, Fashion...    5.0            36\n",
            "7550                     Automotive, Roadside Assistance    5.0             5\n",
            "7551        Automotive, Roadside Assistance, Auto Repair    5.0             5\n",
            "29157  Fitness & Instruction, Health & Medical, Activ...    5.0             7\n",
            "29155  Fitness & Instruction, Health & Medical, Activ...    5.0             6\n",
            "74140     Shopping, Shoe Stores, Fashion, Sporting Goods    5.0            11\n"
          ]
        }
      ]
    },
    {
      "cell_type": "code",
      "source": [
        "top_review_cities = df_business.groupby('city').agg({\n",
        "    'review_count': 'sum'\n",
        "}).reset_index().sort_values(by='review_count', ascending=False)\n",
        "\n",
        "print(\"Top 10 Cities by Review Count:\")\n",
        "print(top_review_cities.head(10))"
      ],
      "metadata": {
        "colab": {
          "base_uri": "https://localhost:8080/"
        },
        "id": "W9L-hWaU2A6S",
        "outputId": "3d0b2357-847b-4143-cc27-9271f1d3c2d8"
      },
      "execution_count": null,
      "outputs": [
        {
          "output_type": "stream",
          "name": "stdout",
          "text": [
            "Top 10 Cities by Review Count:\n",
            "               city  review_count\n",
            "866    Philadelphia        936240\n",
            "758     New Orleans        621361\n",
            "745       Nashville        441053\n",
            "1157          Tampa        439506\n",
            "1210         Tucson        387254\n",
            "511    Indianapolis        349228\n",
            "926            Reno        334610\n",
            "1007  Santa Barbara        262853\n",
            "989     Saint Louis        244360\n",
            "91            Boise        101893\n"
          ]
        }
      ]
    },
    {
      "cell_type": "code",
      "source": [
        "business_by_state = df_business.groupby('state').size().reset_index(name='business_count')\n",
        "business_by_state = business_by_state.sort_values(by='business_count', ascending=False)\n",
        "\n",
        "print(\"Business Distribution by State:\")\n",
        "print(business_by_state.head(10))"
      ],
      "metadata": {
        "colab": {
          "base_uri": "https://localhost:8080/"
        },
        "id": "nrRETQfA2DEI",
        "outputId": "77cc0a9e-c8ba-480c-ed94-f438bbb5e826"
      },
      "execution_count": null,
      "outputs": [
        {
          "output_type": "stream",
          "name": "stdout",
          "text": [
            "Business Distribution by State:\n",
            "   state  business_count\n",
            "18    PA           34039\n",
            "5     FL           26330\n",
            "20    TN           12056\n",
            "9     IN           11247\n",
            "13    MO           10913\n",
            "10    LA            9924\n",
            "1     AZ            9912\n",
            "16    NJ            8536\n",
            "17    NV            7715\n",
            "0     AB            5573\n"
          ]
        }
      ]
    },
    {
      "cell_type": "code",
      "source": [
        "df_business['hours'] = df_business['hours'].fillna('{}')\n",
        "business_hours = df_business[['name', 'city', 'hours']]\n",
        "\n",
        "print(\"Sample Business Hours Data:\")\n",
        "print(business_hours.head())"
      ],
      "metadata": {
        "colab": {
          "base_uri": "https://localhost:8080/"
        },
        "id": "4yEyH8MN2E4z",
        "outputId": "18e2907c-2406-4d8c-fb48-d951ce2d568f"
      },
      "execution_count": null,
      "outputs": [
        {
          "output_type": "stream",
          "name": "stdout",
          "text": [
            "Sample Business Hours Data:\n",
            "                       name           city  \\\n",
            "0  Abby Rappoport, LAC, CMQ  Santa Barbara   \n",
            "1             The UPS Store         Affton   \n",
            "2                    Target         Tucson   \n",
            "3        St Honore Pastries   Philadelphia   \n",
            "4  Perkiomen Valley Brewery     Green Lane   \n",
            "\n",
            "                                               hours  \n",
            "0                                                 {}  \n",
            "1  (8:0-18:30, 0:0-0:0, 8:0-14:0, None, 8:0-18:30...  \n",
            "2  (8:0-23:0, 8:0-22:0, 8:0-23:0, 8:0-22:0, 8:0-2...  \n",
            "3  (7:0-21:0, 7:0-20:0, 7:0-21:0, 7:0-21:0, 7:0-2...  \n",
            "4  (12:0-22:0, None, 12:0-22:0, 12:0-18:0, 16:0-2...  \n"
          ]
        }
      ]
    },
    {
      "cell_type": "code",
      "source": [
        "business_density = df_business.groupby('city').size().reset_index(name='business_count')\n",
        "business_density = business_density.sort_values(by='business_count', ascending=False)\n",
        "\n",
        "plt.figure(figsize=(10, 6))\n",
        "business_density.head(10).plot(kind='bar', x='city', y='business_count', color='lightgreen')\n",
        "plt.title(\"Top 10 Cities by Business Density\")\n",
        "plt.xlabel('City')\n",
        "plt.ylabel('Number of Businesses')\n",
        "plt.xticks(rotation=45, ha='right')\n",
        "plt.tight_layout()\n",
        "plt.show()"
      ],
      "metadata": {
        "colab": {
          "base_uri": "https://localhost:8080/",
          "height": 505
        },
        "id": "vYruo2D_2Gvk",
        "outputId": "75206b8b-1044-4d1c-fc03-750ad9f4a825"
      },
      "execution_count": null,
      "outputs": [
        {
          "output_type": "display_data",
          "data": {
            "text/plain": [
              "<Figure size 1000x600 with 0 Axes>"
            ]
          },
          "metadata": {}
        },
        {
          "output_type": "display_data",
          "data": {
            "text/plain": [
              "<Figure size 640x480 with 1 Axes>"
            ],
            "image/png": "[encoded data removed]"
          },
          "metadata": {}
        }
      ]
    },
    {
      "cell_type": "code",
      "source": [
        "plt.figure(figsize=(8, 6))\n",
        "df_business['stars'].hist(bins=10, color='lightcoral', edgecolor='black')\n",
        "plt.title(\"Distribution of Ratings Across Businesses\")\n",
        "plt.xlabel('Rating')\n",
        "plt.ylabel('Number of Businesses')\n",
        "plt.tight_layout()\n",
        "plt.show()"
      ],
      "metadata": {
        "colab": {
          "base_uri": "https://localhost:8080/",
          "height": 607
        },
        "id": "rHsaGrC12d11",
        "outputId": "8e278ee6-07d6-43ee-d119-c713ec8c66a3"
      },
      "execution_count": null,
      "outputs": [
        {
          "output_type": "display_data",
          "data": {
            "text/plain": [
              "<Figure size 800x600 with 1 Axes>"
            ],
            "image/png": "[encoded data removed]"
          },
          "metadata": {}
        }
      ]
    },
    {
      "cell_type": "code",
      "source": [
        "import folium\n",
        "from folium.plugins import HeatMap\n",
        "\n",
        "# Group data by city/state and calculate the average rating\n",
        "city_ratings = df_business.groupby('city').agg({\n",
        "    'stars': 'mean',\n",
        "    'latitude': 'mean',\n",
        "    'longitude': 'mean'\n",
        "}).reset_index()\n",
        "\n",
        "# Create a base folium map centered at the average latitude and longitude\n",
        "choropleth_map = folium.Map(location=[city_ratings['latitude'].mean(), city_ratings['longitude'].mean()], zoom_start=10)\n",
        "\n",
        "# Add circle markers for each city with color based on average rating\n",
        "for _, row in city_ratings.iterrows():\n",
        "    folium.CircleMarker(\n",
        "        location=[row['latitude'], row['longitude']],\n",
        "        radius=7,\n",
        "        color='blue' if row['stars'] >= 4 else 'red',\n",
        "        fill=True,\n",
        "        fill_color='blue' if row['stars'] >= 4 else 'red',\n",
        "        fill_opacity=0.6,\n",
        "        popup=f\"{row['city']} - {row['stars']:.1f} stars\"\n",
        "    ).add_to(choropleth_map)\n",
        "\n",
        "# Save the choropleth map as HTML file\n",
        "choropleth_map.save(\"business_choropleth_map.html\")"
      ],
      "metadata": {
        "id": "mNgzhlgT2h-D"
      },
      "execution_count": null,
      "outputs": []
    },
    {
      "cell_type": "code",
      "source": [
        "import pandas as pd\n",
        "full_to_abbr = {\n",
        "    'Alabama': 'AL', 'Alaska': 'AK', 'Arizona': 'AZ', 'Arkansas': 'AR', 'California': 'CA',\n",
        "    'Colorado': 'CO', 'Connecticut': 'CT', 'Delaware': 'DE', 'Florida': 'FL', 'Georgia': 'GA',\n",
        "    'Hawaii': 'HI', 'Idaho': 'ID', 'Illinois': 'IL', 'Indiana': 'IN', 'Iowa': 'IA',\n",
        "    'Kansas': 'KS', 'Kentucky': 'KY', 'Louisiana': 'LA', 'Maine': 'ME', 'Maryland': 'MD',\n",
        "    'Massachusetts': 'MA', 'Michigan': 'MI', 'Minnesota': 'MN', 'Mississippi': 'MS',\n",
        "    'Missouri': 'MO', 'Montana': 'MT', 'Nebraska': 'NE', 'Nevada': 'NV', 'New Hampshire': 'NH',\n",
        "    'New Jersey': 'NJ', 'New Mexico': 'NM', 'New York': 'NY', 'North Carolina': 'NC',\n",
        "    'North Dakota': 'ND', 'Ohio': 'OH', 'Oklahoma': 'OK', 'Oregon': 'OR', 'Pennsylvania': 'PA',\n",
        "    'Rhode Island': 'RI', 'South Carolina': 'SC', 'South Dakota': 'SD', 'Tennessee': 'TN',\n",
        "    'Texas': 'TX', 'Utah': 'UT', 'Vermont': 'VT', 'Virginia': 'VA', 'Washington': 'WA',\n",
        "    'West Virginia': 'WV', 'Wisconsin': 'WI', 'Wyoming': 'WY'\n",
        "}\n",
        "regions_to_exclude = [\"United States\", \"Northeast\", \"Mideast\", \"Great Lakes\", \"West\", \"South\", \"New England\"]\n",
        "df_states = df_states[~df_states['State'].isin(regions_to_exclude)]\n",
        "df_states['State'] = df_states['State'].str.strip().str.title()\n",
        "df_states['State_Abbr'] = df_states['State'].map(full_to_abbr)\n",
        "unmatched_states = df_states[df_states['State_Abbr'].isna()]\n",
        "print(f\"Unmatched states: {unmatched_states[['State']]}\\n\")\n",
        "df_states = df_states.dropna(subset=['State_Abbr'])\n",
        "df_merged = pd.merge(state_avg_ratings, df_states[['State_Abbr', 'GDP_2023', 'GDP_2024']],\n",
        "                     left_on='state', right_on='State_Abbr', how='inner')\n",
        "df_merged = df_merged.dropna(subset=['GDP_2023', 'GDP_2024', 'average_rating'])\n",
        "\n",
        "correlation_2023 = df_merged[['GDP_2023', 'average_rating']].corr().iloc[0, 1]\n",
        "correlation_2024 = df_merged[['GDP_2024', 'average_rating']].corr().iloc[0, 1]\n",
        "\n",
        "print(f\"\\nCorrelation between GDP and Average Restaurant Rating:\")\n",
        "print(f\"Correlation with GDP 2023: {correlation_2023}\")\n",
        "print(f\"Correlation with GDP 2024: {correlation_2024}\")"
      ],
      "metadata": {
        "colab": {
          "base_uri": "https://localhost:8080/"
        },
        "id": "fXTvZubAJ-zT",
        "outputId": "65eb700e-1914-4e11-8095-a87313d8e02a"
      },
      "execution_count": null,
      "outputs": [
        {
          "output_type": "stream",
          "name": "stdout",
          "text": [
            "Unmatched states:                    State\n",
            "0            New England\n",
            "7                Mideast\n",
            "9   District Of Columbia\n",
            "14           Great Lakes\n",
            "20                Plains\n",
            "28             Southeast\n",
            "41             Southwest\n",
            "46        Rocky Mountain\n",
            "52              Far West\n",
            "59    Overseas Activity2\n",
            "\n",
            "\n",
            "Correlation between GDP and Average Restaurant Rating:\n",
            "Correlation with GDP 2023: -0.19810352662287378\n",
            "Correlation with GDP 2024: -0.19902768937705642\n"
          ]
        }
      ]
    },
    {
      "cell_type": "code",
      "source": [
        "regions_to_exclude = [\n",
        "    \"United States\", \"Northeast\", \"Mideast\", \"Great Lakes\", \"West\", \"South\",\n",
        "    \"New England\", \"District Of Columbia\", \"Plains\", \"Southeast\", \"Southwest\",\n",
        "    \"Rocky Mountain\", \"Far West\", \"Overseas Activity2\"\n",
        "]\n",
        "df_states = df_states[~df_states['State'].isin(regions_to_exclude)]\n",
        "df_states['State'] = df_states['State'].str.strip().str.title()\n",
        "df_states['State_Abbr'] = df_states['State'].map(full_to_abbr)\n",
        "\n",
        "unmatched_states = df_states[df_states['State_Abbr'].isna()]\n",
        "print(f\"Unmatched states: {unmatched_states[['State']]}\\n\")\n",
        "df_states = df_states.dropna(subset=['State_Abbr'])\n",
        "df_merged = pd.merge(state_avg_ratings, df_states[['State_Abbr', 'GDP_2023', 'GDP_2024']],\n",
        "                     left_on='state', right_on='State_Abbr', how='inner')\n",
        "\n",
        "df_merged = df_merged.dropna(subset=['GDP_2023', 'GDP_2024', 'average_rating'])\n",
        "correlation_2023 = df_merged[['GDP_2023', 'average_rating']].corr().iloc[0, 1]\n",
        "correlation_2024 = df_merged[['GDP_2024', 'average_rating']].corr().iloc[0, 1]\n",
        "\n",
        "print(f\"\\nCorrelation between GDP and Average Restaurant Rating:\")\n",
        "print(f\"Correlation with GDP 2023: {correlation_2023}\")\n",
        "print(f\"Correlation with GDP 2024: {correlation_2024}\")\n"
      ],
      "metadata": {
        "colab": {
          "base_uri": "https://localhost:8080/"
        },
        "id": "dCmsfGpDLzHO",
        "outputId": "feba32c7-5fec-4991-dec4-886e4c0e58bf"
      },
      "execution_count": null,
      "outputs": [
        {
          "output_type": "stream",
          "name": "stdout",
          "text": [
            "Unmatched states: Empty DataFrame\n",
            "Columns: [State]\n",
            "Index: []\n",
            "\n",
            "\n",
            "Correlation between GDP and Average Restaurant Rating:\n",
            "Correlation with GDP 2023: -0.19810352662287378\n",
            "Correlation with GDP 2024: -0.19902768937705642\n"
          ]
        }
      ]
    }
  ]
}